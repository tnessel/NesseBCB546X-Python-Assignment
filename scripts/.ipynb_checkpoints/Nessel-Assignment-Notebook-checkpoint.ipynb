{
 "cells": [
  {
   "cell_type": "markdown",
   "metadata": {},
   "source": [
    "# Python Assignment\n",
    "### By Timothy Nessel for Professor Charles X\n",
    "\n",
    "________________________________________________________________\n",
    "\n",
    "\n",
    "## Setting the environment\n",
    "##### *NOTE : this code requires biopython and seaborn*"
   ]
  },
  {
   "cell_type": "code",
   "execution_count": 1,
   "metadata": {},
   "outputs": [],
   "source": [
    "#Set needed environment for all future code sometimes with aliases\n",
    "from Bio import SeqIO\n",
    "from Bio import Seq\n",
    "from Bio.Data import CodonTable\n",
    "from Bio.SeqUtils.ProtParam import ProteinAnalysis\n",
    "from Bio.SeqUtils import GC\n",
    "import pandas as pd\n",
    "import seaborn as sns\n",
    "import matplotlib.pyplot as plt\n",
    "sns.set(style=\"ticks\", color_codes=True)\n",
    "%matplotlib inline \n",
    "##Shows plots inline"
   ]
  },
  {
   "cell_type": "markdown",
   "metadata": {},
   "source": [
    "## Functions"
   ]
  },
  {
   "cell_type": "code",
   "execution_count": 2,
   "metadata": {},
   "outputs": [],
   "source": [
    "## 1.\n",
    "##This function reads in a FASTA file and returns a dictionary of sequences by species name\n",
    "def get_sequences_from_file(fasta_fn):  #Input: FASTA file in quotations \n",
    "    sequence_data_dict = {}   # Creates a dictonary,\n",
    "    for record in SeqIO.parse(fasta_fn, \"fasta\"): # Parses out the species name from the input file, then uses the species name as the key for sequences\n",
    "        description = record.description.split()\n",
    "        species_name = description[1] + \" \" + description[2]\n",
    "        sequence_data_dict[species_name] = record.seq  \n",
    "    return(sequence_data_dict) # The returned result is the dictonary, the sequence can be accessed by iterating through it. "
   ]
  },
  {
   "cell_type": "code",
   "execution_count": 3,
   "metadata": {},
   "outputs": [],
   "source": [
    "## 2.\n",
    "##This function converts a nucleotide sequence string to an amino acid string\n",
    "def translate_function(string_nucleotides): #input is a consistent string of nucleotide sequence\n",
    "    mito_table = CodonTable.unambiguous_dna_by_name[\"Vertebrate Mitochondrial\"] #returns a table of codons to amino acid symbol (http://biopython.org/DIST/docs/tutorial/Tutorial.html)\n",
    "    string_aa = \"\"\n",
    "    for i in range(0,len(string_nucleotides),4): # i starts at 0, iterates to next codon until end of nucleotide sequence\n",
    "        codon = string_nucleotides[i:i+3] #creates a codon out of a 3 length nucleotide sequence\n",
    "        if codon in [\"TAA\",\"TAG\",\"AGA\",\"AGG\"]:  #check for stop codon\n",
    "            return string_aa #quit function with sequence generated so far\n",
    "        aa_seq_string=aa_seq_string+mito_table.forward_table[codon] #translates the codon using provided command by Dr. X and adds it to the current total sequence\n",
    "    return(string_aa) #returns a string containing the translated amino acid sequence in aa symbols \n",
    "\n",
    "## 3.\n",
    "##This function converts a nucleotide sequence string to an amino acid string\n",
    "def better_translate(string_nucleotides): #input is a consistent string of nucleotide sequence\n",
    "    better_string_aa = \"\"\n",
    "    better_string_aa=Seq.translate(string_nucleotides, table=2, to_stop=True) #translates the nucleotide sequence into amino acids, stopping at a stop codon (http://biopython.org/DIST/docs/tutorial/Tutorial.html)\n",
    "    return better_string_aa #returns a string containing the translated amino acid sequence in aa symbols "
   ]
  },
  {
   "cell_type": "code",
   "execution_count": 4,
   "metadata": {},
   "outputs": [],
   "source": [
    "## 4.\n",
    "##This function returns the molecular weight of an amino acid string\n",
    "def compute_molecular_weight(aa_seq): #INPUT: string of an amino acid sequence, must be only amino acids\n",
    "    analysed_seq = ProteinAnalysis(aa_seq) #checks if the argument is a pure amino acid sequence\n",
    "    return analysed_seq.molecular_weight() #returns the molecular weight as a float\n",
    "## (cite: http://biopython.org/wiki/ProtParam)"
   ]
  },
  {
   "cell_type": "code",
   "execution_count": 5,
   "metadata": {},
   "outputs": [],
   "source": [
    "## 5.\n",
    "##This function returns the GC content of an amino acid string\n",
    "def compute_GC_content(DNA_seq): #INPUT: string of an amino acid sequence, must be only amino acids\n",
    "    return GC(DNA_seq) #returns the GC content as a float, percentage between 0 and 100\n",
    "## (cite: http://biopython.org/DIST/docs/api/Bio.SeqUtils-module.html)"
   ]
  },
  {
   "cell_type": "markdown",
   "metadata": {},
   "source": [
    "## MAIN"
   ]
  },
  {
   "cell_type": "code",
   "execution_count": 6,
   "metadata": {},
   "outputs": [],
   "source": [
    "## Read in the files and convert them to a dictionary\n",
    "cytb_seqs = get_sequences_from_file('../data/bears_cytb.fasta') \n",
    "bears_df = pd.read_csv('../data/bears_mass.csv') # Create a dataframe of bear body mass and \n",
    "species_list = list(bears_df.species) # Create a new list of species names with it"
   ]
  },
  {
   "cell_type": "code",
   "execution_count": 7,
   "metadata": {},
   "outputs": [
    {
     "data": {
      "text/html": [
       "<div>\n",
       "<style scoped>\n",
       "    .dataframe tbody tr th:only-of-type {\n",
       "        vertical-align: middle;\n",
       "    }\n",
       "\n",
       "    .dataframe tbody tr th {\n",
       "        vertical-align: top;\n",
       "    }\n",
       "\n",
       "    .dataframe thead th {\n",
       "        text-align: right;\n",
       "    }\n",
       "</style>\n",
       "<table border=\"1\" class=\"dataframe\">\n",
       "  <thead>\n",
       "    <tr style=\"text-align: right;\">\n",
       "      <th></th>\n",
       "      <th>species</th>\n",
       "      <th>mass</th>\n",
       "      <th>molecular_weight</th>\n",
       "      <th>GC_content</th>\n",
       "    </tr>\n",
       "  </thead>\n",
       "  <tbody>\n",
       "    <tr>\n",
       "      <th>0</th>\n",
       "      <td>Ursus spelaeus</td>\n",
       "      <td>550.800</td>\n",
       "      <td>NaN</td>\n",
       "      <td>NaN</td>\n",
       "    </tr>\n",
       "    <tr>\n",
       "      <th>1</th>\n",
       "      <td>Ursus arctos</td>\n",
       "      <td>203.500</td>\n",
       "      <td>NaN</td>\n",
       "      <td>NaN</td>\n",
       "    </tr>\n",
       "    <tr>\n",
       "      <th>2</th>\n",
       "      <td>Ursus thibetanus</td>\n",
       "      <td>99.714</td>\n",
       "      <td>NaN</td>\n",
       "      <td>NaN</td>\n",
       "    </tr>\n",
       "    <tr>\n",
       "      <th>3</th>\n",
       "      <td>Melursus ursinus</td>\n",
       "      <td>100.030</td>\n",
       "      <td>NaN</td>\n",
       "      <td>NaN</td>\n",
       "    </tr>\n",
       "    <tr>\n",
       "      <th>4</th>\n",
       "      <td>Ursus americanus</td>\n",
       "      <td>110.560</td>\n",
       "      <td>NaN</td>\n",
       "      <td>NaN</td>\n",
       "    </tr>\n",
       "  </tbody>\n",
       "</table>\n",
       "</div>"
      ],
      "text/plain": [
       "            species     mass molecular_weight GC_content\n",
       "0    Ursus spelaeus  550.800              NaN        NaN\n",
       "1      Ursus arctos  203.500              NaN        NaN\n",
       "2  Ursus thibetanus   99.714              NaN        NaN\n",
       "3  Melursus ursinus  100.030              NaN        NaN\n",
       "4  Ursus americanus  110.560              NaN        NaN"
      ]
     },
     "execution_count": 7,
     "metadata": {},
     "output_type": "execute_result"
    }
   ],
   "source": [
    "## 6.\n",
    "bears_molec_df = bears_df.copy()  #Create a copy of the original df to avoid tampering with raw data\n",
    "for index, row in bears_molec_df.iterrows():   #Loop through the data frame, initializing a new column with value 'NAN'\n",
    "    bears_molec_df.loc[index,'molecular_weight'] = \"NaN\"    #in each row\n",
    "for index, row in bears_molec_df.iterrows():\n",
    "    bears_molec_df.loc[index,'GC_content'] = \"NaN\"\n",
    "bears_molec_df.head(5)  #Shows the current state of our copy"
   ]
  },
  {
   "cell_type": "code",
   "execution_count": 8,
   "metadata": {},
   "outputs": [
    {
     "data": {
      "text/html": [
       "<div>\n",
       "<style scoped>\n",
       "    .dataframe tbody tr th:only-of-type {\n",
       "        vertical-align: middle;\n",
       "    }\n",
       "\n",
       "    .dataframe tbody tr th {\n",
       "        vertical-align: top;\n",
       "    }\n",
       "\n",
       "    .dataframe thead th {\n",
       "        text-align: right;\n",
       "    }\n",
       "</style>\n",
       "<table border=\"1\" class=\"dataframe\">\n",
       "  <thead>\n",
       "    <tr style=\"text-align: right;\">\n",
       "      <th></th>\n",
       "      <th>species</th>\n",
       "      <th>mass</th>\n",
       "      <th>molecular_weight</th>\n",
       "      <th>GC_content</th>\n",
       "    </tr>\n",
       "  </thead>\n",
       "  <tbody>\n",
       "    <tr>\n",
       "      <th>0</th>\n",
       "      <td>Ursus spelaeus</td>\n",
       "      <td>550.800</td>\n",
       "      <td>42458.8</td>\n",
       "      <td>43.7719</td>\n",
       "    </tr>\n",
       "    <tr>\n",
       "      <th>1</th>\n",
       "      <td>Ursus arctos</td>\n",
       "      <td>203.500</td>\n",
       "      <td>42414.7</td>\n",
       "      <td>43.7719</td>\n",
       "    </tr>\n",
       "    <tr>\n",
       "      <th>2</th>\n",
       "      <td>Ursus thibetanus</td>\n",
       "      <td>99.714</td>\n",
       "      <td>42306.7</td>\n",
       "      <td>45.614</td>\n",
       "    </tr>\n",
       "    <tr>\n",
       "      <th>3</th>\n",
       "      <td>Melursus ursinus</td>\n",
       "      <td>100.030</td>\n",
       "      <td>42552</td>\n",
       "      <td>45.1754</td>\n",
       "    </tr>\n",
       "    <tr>\n",
       "      <th>4</th>\n",
       "      <td>Ursus americanus</td>\n",
       "      <td>110.560</td>\n",
       "      <td>42427.7</td>\n",
       "      <td>43.9474</td>\n",
       "    </tr>\n",
       "  </tbody>\n",
       "</table>\n",
       "</div>"
      ],
      "text/plain": [
       "            species     mass molecular_weight GC_content\n",
       "0    Ursus spelaeus  550.800          42458.8    43.7719\n",
       "1      Ursus arctos  203.500          42414.7    43.7719\n",
       "2  Ursus thibetanus   99.714          42306.7     45.614\n",
       "3  Melursus ursinus  100.030            42552    45.1754\n",
       "4  Ursus americanus  110.560          42427.7    43.9474"
      ]
     },
     "execution_count": 8,
     "metadata": {},
     "output_type": "execute_result"
    }
   ],
   "source": [
    "## 7. \n",
    "## For loop to iterate through each species represented by a row, compute statistics from cytb_seqs, \n",
    "## and write them to our previously made new columns\n",
    "\n",
    "row = 0\n",
    "for i in bears_molec_df.species:  #Gets you the names of the species in the bear df\n",
    "    #Translates the sequence of the corresponding species in cytb and saves to new variable\n",
    "    aa_seq = better_translate(str(cytb_seqs[i]))\n",
    "    #computes the molecular weight of the new aa sequence\n",
    "    molec_weight = compute_molecular_weight(aa_seq)\n",
    "    #computes the GC content of the DNA sequence\n",
    "    GC_seq = compute_GC_content(str(cytb_seqs[i]))\n",
    "    #Write the values to the new columns\n",
    "    bears_molec_df.iloc[row, bears_molec_df.columns.get_loc('molecular_weight')] = molec_weight\n",
    "    bears_molec_df.iloc[row, bears_molec_df.columns.get_loc('GC_content')] = GC_seq\n",
    "    row += 1\n",
    "bears_molec_df.head(5)  #Shows the current state of our copy    \n",
    "## CITE: (https://stackoverflow.com/questions/31569384/set-value-for-particular-cell-in-pandas-dataframe-with-iloc)   "
   ]
  },
  {
   "cell_type": "markdown",
   "metadata": {},
   "source": [
    "## Visualization "
   ]
  },
  {
   "cell_type": "code",
   "execution_count": 9,
   "metadata": {},
   "outputs": [
    {
     "data": {
      "text/plain": [
       "<seaborn.axisgrid.FacetGrid at 0x1a1d73ea58>"
      ]
     },
     "execution_count": 9,
     "metadata": {},
     "output_type": "execute_result"
    },
    {
     "data": {
      "image/png": "[encoded data removed]",
      "text/plain": [
       "<Figure size 1080x360 with 1 Axes>"
      ]
     },
     "metadata": {
      "needs_background": "light"
     },
     "output_type": "display_data"
    }
   ],
   "source": [
    "## 8. \n",
    "## A bar-chart plotted with seaborn of the mass with the x-axes labeled with species names.\n",
    "plot_dims = (14, 9)\n",
    "b = sns.catplot(x=\"species\", y=\"mass\", kind=\"bar\", aspect=3, data=bears_molec_df)\n",
    "b.set_xticklabels(rotation=60) #rotates the x axis labels for readability \n",
    "\n",
    "##CITE (https://stackoverflow.com/questions/26540035/rotate-label-text-in-seaborn-factorplot)"
   ]
  },
  {
   "cell_type": "markdown",
   "metadata": {},
   "source": [
    "The largest bear is Ursus spelaeus: a huge, terrifying bear that I am both relieved and saddened to find out is now extinct."
   ]
  },
  {
   "cell_type": "code",
   "execution_count": 10,
   "metadata": {},
   "outputs": [
    {
     "data": {
      "image/png": "[encoded data removed]",
      "text/plain": [
       "<Figure size 734.1x576 with 1 Axes>"
      ]
     },
     "metadata": {
      "needs_background": "light"
     },
     "output_type": "display_data"
    }
   ],
   "source": [
    "## 8.\n",
    "## Plot with seaborn of the molecular weight (y-axis) as a function of GC-content (x-axis)\n",
    "weight_GC = sns.lmplot(\"GC_content\", \"molecular_weight\", data=bears_molec_df, fit_reg=False, \n",
    "                       height=8, hue='species', markers='D')"
   ]
  },
  {
   "cell_type": "markdown",
   "metadata": {},
   "source": [
    "## Save"
   ]
  },
  {
   "cell_type": "code",
   "execution_count": 12,
   "metadata": {},
   "outputs": [],
   "source": [
    "#Write our new dataframe to a new file\n",
    "bears_molec_df.to_csv('../results/bears_molecular_info.csv')"
   ]
  }
 ],
 "metadata": {
  "kernelspec": {
   "display_name": "Python 3",
   "language": "python",
   "name": "python3"
  },
  "language_info": {
   "codemirror_mode": {
    "name": "ipython",
    "version": 3
   },
   "file_extension": ".py",
   "mimetype": "text/x-python",
   "name": "python",
   "nbconvert_exporter": "python",
   "pygments_lexer": "ipython3",
   "version": "3.7.0"
  }
 },
 "nbformat": 4,
 "nbformat_minor": 2
}
